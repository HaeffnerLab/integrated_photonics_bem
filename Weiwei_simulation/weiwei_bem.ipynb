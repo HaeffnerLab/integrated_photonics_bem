{
 "cells": [
  {
   "cell_type": "code",
   "execution_count": 1,
   "id": "e4e5343d-d0f3-42c7-b0f8-b98d8cd6669f",
   "metadata": {},
   "outputs": [],
   "source": [
    "import sys\n",
    "import logging, os\n",
    "from time import time\n",
    "import numpy as np\n",
    "import pyvista as pv\n",
    "import matplotlib.pyplot as plt\n",
    "from mpl_toolkits.mplot3d import axes3d\n",
    "%matplotlib notebook\n",
    "\n",
    "import ipyparallel as ipp\n",
    "\n",
    "from bem import Electrodes, Sphere, Cylinder, Mesh, Grid, Configuration, Result\n",
    "from bem.formats import stl\n",
    "from bem.bemColors_lib.bemColors import bemColors\n",
    "from helper_functions import helper_functions\n",
    "from collections import OrderedDict"
   ]
  },
  {
   "cell_type": "code",
   "execution_count": 2,
   "id": "71be4eba-a743-4542-b158-cbaa9e0fea6e",
   "metadata": {},
   "outputs": [],
   "source": [
    "prefix = \"Calcium_trap_planar_cood_fixed v5\""
   ]
  },
  {
   "cell_type": "code",
   "execution_count": 3,
   "id": "6a7451ad-9bec-481d-aa2b-819e68c550b7",
   "metadata": {},
   "outputs": [
    {
     "name": "stdout",
     "output_type": "stream",
     "text": [
      "Import stl: c:\\Users\\Photonics\\Documents\\GitHub\\integrated_photonics_bem\\Weiwei_simulation\\Calcium_trap_planar_cood_fixed v5.stl \n",
      "\n",
      "Electrode colors (numbers):\n",
      "\n",
      "dropping 20083\n",
      "dropping 5345\n",
      "dropping 10095\n",
      "dropping 19501\n",
      "dropping 15925\n",
      "dropping 7275\n",
      "dropping 13683\n",
      "dropping 1647\n",
      "dropping 13363\n",
      "dropping 28135\n",
      "dropping 19943\n",
      "dropping 11517\n",
      "dropping 28463\n",
      "dropping 1399\n",
      "dropping 10151\n",
      "dropping 15669\n",
      "dropping 5493\n",
      "dropping 11893\n",
      "dropping 5997\n",
      "dropping 5941\n",
      "dropping 27949\n",
      "dropping 9893\n",
      "dropping 3565\n",
      "dropping 15905\n",
      "dropping 25969\n",
      "mesh.gather() not working properly, be sure to have valid input\n"
     ]
    }
   ],
   "source": [
    "scale = 1e-8    # rescale factor 1 um.\n",
    "use_stl = True\n",
    "\n",
    "# load electrode faces from colored stl\n",
    "# s_nta is intermediate processed stl file.\n",
    "s_nta = stl.read_stl(open(\"%s.stl\" % prefix, \"rb\"))\n",
    "print(\"Import stl:\",os.path.abspath(\"./\"+prefix+\".stl\"),\"\\n\")\n",
    "print(\"Electrode colors (numbers):\\n\")\n",
    "mesh = Mesh.from_mesh(stl.stl_to_mesh(*s_nta, scale=scale/1e-6,rename={1:\"1\"})) # unit inside is um"
   ]
  },
  {
   "cell_type": "code",
   "execution_count": 4,
   "id": "61df63c1-68b0-428c-a908-03da8c412d09",
   "metadata": {},
   "outputs": [
    {
     "name": "stdout",
     "output_type": "stream",
     "text": [
      "COLORS in the stl:\n",
      "['bem6']\n",
      "['bem13']\n",
      "['bem19']\n",
      "['bem17']\n",
      "['bem11']\n",
      "['bem15']\n",
      "['bem1']\n",
      "['bem22']\n",
      "['bem12']\n",
      "['bem5']\n",
      "['bem18']\n",
      "['bem3']\n",
      "['bem16']\n",
      "['bem7']\n",
      "['bem9']\n",
      "['bem23']\n",
      "['bem4']\n",
      "['bem2']\n",
      "['bem20']\n",
      "['bem10']\n",
      "['bem14']\n",
      "['bem24']\n",
      "['bem8']\n",
      "['bem21']\n",
      "['_unkColor0']\n",
      "TOTAL COLORS:  25\n"
     ]
    }
   ],
   "source": [
    "ele_col = bemColors(np.array(list(set(s_nta[2]))),('fusion360','export_stl'))\n",
    "ele_col.set_my_color(value = (178,178,178),cl_format = ('fusion360','export_stl','RGBA64'),name = 'self_defined')\n",
    "ele_col.print_stl_colors()"
   ]
  },
  {
   "cell_type": "code",
   "execution_count": 5,
   "id": "e3484ddf-09cb-463c-8639-fb91eca2e05e",
   "metadata": {
    "scrolled": true
   },
   "outputs": [
    {
     "name": "stdout",
     "output_type": "stream",
     "text": [
      "dropping color ['_unkColor0']\n",
      "TOTAL COLORS DROPPED:  1\n",
      "dropping 20083\n",
      "1 planes in electrode DC14\n",
      "normals vectors:\n",
      " [[0. 1. 0.]]\n",
      "1 planes in electrode DC1\n",
      "normals vectors:\n",
      " [[ 8.18265803e-16  1.00000000e+00 -0.00000000e+00]]\n",
      "1 planes in electrode DC13\n",
      "normals vectors:\n",
      " [[0. 1. 0.]]\n",
      "1 planes in electrode DC18\n",
      "normals vectors:\n",
      " [[0. 1. 0.]]\n",
      "1 planes in electrode DC4\n",
      "normals vectors:\n",
      " [[8.18265803e-16 1.00000000e+00 0.00000000e+00]]\n",
      "1 planes in electrode DC7\n",
      "normals vectors:\n",
      " [[ 8.18265803e-16  1.00000000e+00 -0.00000000e+00]]\n",
      "41 planes in electrode cutout2\n",
      "normals vectors:\n",
      " [[ 8.75317097e-01  0.00000000e+00 -4.83549327e-01]\n",
      " [ 8.87170017e-01  0.00000000e+00 -4.61442709e-01]\n",
      " [ 8.98672283e-01  0.00000000e+00 -4.38620657e-01]\n",
      " [ 9.09385741e-01  0.00000000e+00 -4.15953815e-01]\n",
      " [ 9.19606209e-01  0.00000000e+00 -3.92841488e-01]\n",
      " [ 9.29189205e-01  0.00000000e+00 -3.69604468e-01]\n",
      " [ 9.38208878e-01  0.00000000e+00 -3.46069455e-01]\n",
      " [ 9.46700871e-01  0.00000000e+00 -3.22113991e-01]\n",
      " [ 9.54511762e-01  0.00000000e+00 -2.98173338e-01]\n",
      " [ 9.61752713e-01  0.00000000e+00 -2.73919165e-01]\n",
      " [ 9.68330264e-01  0.00000000e+00 -2.49672756e-01]\n",
      " [ 9.74276721e-01  0.00000000e+00 -2.25355059e-01]\n",
      " [ 9.79734063e-01  0.00000000e+00 -2.00302765e-01]\n",
      " [ 9.84436393e-01  0.00000000e+00 -1.75741181e-01]\n",
      " [ 9.88577247e-01 -1.68128247e-15 -1.50715172e-01]\n",
      " [ 9.92023110e-01 -1.68714288e-15 -1.26056209e-01]\n",
      " [ 9.94916260e-01  0.00000000e+00 -1.00705810e-01]\n",
      " [ 9.97129619e-01  0.00000000e+00 -7.57132843e-02]\n",
      " [ 9.98731792e-01  0.00000000e+00 -5.03472239e-02]\n",
      " [ 9.99678433e-01  0.00000000e+00 -2.53580455e-02]\n",
      " [ 1.00000000e+00 -0.00000000e+00  0.00000000e+00]\n",
      " [ 9.99678433e-01 -0.00000000e+00  2.53580455e-02]\n",
      " [ 9.98731792e-01 -0.00000000e+00  5.03472239e-02]\n",
      " [ 9.97129619e-01 -0.00000000e+00  7.57132843e-02]\n",
      " [ 9.94916260e-01 -1.69206330e-15  1.00705810e-01]\n",
      " [ 9.92023110e-01 -1.68714288e-15  1.26056209e-01]\n",
      " [ 9.88577247e-01 -0.00000000e+00  1.50715172e-01]\n",
      " [ 9.84436393e-01 -0.00000000e+00  1.75741181e-01]\n",
      " [ 9.79734063e-01 -0.00000000e+00  2.00302765e-01]\n",
      " [ 9.74276721e-01 -0.00000000e+00  2.25355059e-01]\n",
      " [ 9.68330264e-01 -0.00000000e+00  2.49672756e-01]\n",
      " [ 9.61752713e-01 -1.63566181e-15  2.73919165e-01]\n",
      " [ 9.54511762e-01 -0.00000000e+00  2.98173338e-01]\n",
      " [ 9.46700871e-01 -0.00000000e+00  3.22113991e-01]\n",
      " [ 9.38208878e-01 -0.00000000e+00  3.46069455e-01]\n",
      " [ 9.29189205e-01 -0.00000000e+00  3.69604468e-01]\n",
      " [ 9.19606209e-01 -0.00000000e+00  3.92841488e-01]\n",
      " [ 9.09385741e-01 -0.00000000e+00  4.15953815e-01]\n",
      " [ 8.98672283e-01 -0.00000000e+00  4.38620657e-01]\n",
      " [ 8.87170017e-01 -0.00000000e+00  4.61442709e-01]\n",
      " [ 8.75317097e-01 -0.00000000e+00  4.83549327e-01]]\n",
      "41 planes in electrode cutout1\n",
      "normals vectors:\n",
      " [[-8.75317097e-01  0.00000000e+00  4.83549327e-01]\n",
      " [-8.87170017e-01  0.00000000e+00  4.61442709e-01]\n",
      " [-8.98672283e-01  0.00000000e+00  4.38620657e-01]\n",
      " [-9.09385741e-01  0.00000000e+00  4.15953815e-01]\n",
      " [-9.19606209e-01  0.00000000e+00  3.92841488e-01]\n",
      " [-9.29189205e-01  1.58028068e-15  3.69604468e-01]\n",
      " [-9.38208878e-01  0.00000000e+00  3.46069455e-01]\n",
      " [-9.46700871e-01  0.00000000e+00  3.22113991e-01]\n",
      " [-9.54511762e-01  0.00000000e+00  2.98173338e-01]\n",
      " [-9.61752713e-01  0.00000000e+00  2.73919165e-01]\n",
      " [-9.68330264e-01  1.64684825e-15  2.49672756e-01]\n",
      " [-9.74276721e-01  0.00000000e+00  2.25355059e-01]\n",
      " [-9.79734063e-01  0.00000000e+00  2.00302765e-01]\n",
      " [-9.84436393e-01  1.67424014e-15  1.75741181e-01]\n",
      " [-9.88577247e-01  0.00000000e+00  1.50715172e-01]\n",
      " [-9.92023110e-01  0.00000000e+00  1.26056209e-01]\n",
      " [-9.94916260e-01  0.00000000e+00  1.00705810e-01]\n",
      " [-9.97129619e-01  0.00000000e+00  7.57132843e-02]\n",
      " [-9.98731792e-01  0.00000000e+00  5.03472239e-02]\n",
      " [-9.99678433e-01  0.00000000e+00  2.53580455e-02]\n",
      " [-1.00000000e+00  0.00000000e+00  0.00000000e+00]\n",
      " [-9.99678433e-01  0.00000000e+00 -2.53580455e-02]\n",
      " [-9.98731792e-01  0.00000000e+00 -5.03472239e-02]\n",
      " [-9.97129619e-01  0.00000000e+00 -7.57132843e-02]\n",
      " [-9.94916260e-01  0.00000000e+00 -1.00705810e-01]\n",
      " [-9.92023110e-01  0.00000000e+00 -1.26056209e-01]\n",
      " [-9.88577247e-01  0.00000000e+00 -1.50715172e-01]\n",
      " [-9.84436393e-01  0.00000000e+00 -1.75741181e-01]\n",
      " [-9.79734063e-01  0.00000000e+00 -2.00302765e-01]\n",
      " [-9.74276721e-01  0.00000000e+00 -2.25355059e-01]\n",
      " [-9.68330264e-01  0.00000000e+00 -2.49672756e-01]\n",
      " [-9.61752713e-01  0.00000000e+00 -2.73919165e-01]\n",
      " [-9.54511762e-01  0.00000000e+00 -2.98173338e-01]\n",
      " [-9.46700871e-01  0.00000000e+00 -3.22113991e-01]\n",
      " [-9.38208878e-01  0.00000000e+00 -3.46069455e-01]\n",
      " [-9.29189205e-01  0.00000000e+00 -3.69604468e-01]\n",
      " [-9.19606209e-01  0.00000000e+00 -3.92841488e-01]\n",
      " [-9.09385741e-01  0.00000000e+00 -4.15953815e-01]\n",
      " [-8.98672283e-01  0.00000000e+00 -4.38620657e-01]\n",
      " [-8.87170017e-01  0.00000000e+00 -4.61442709e-01]\n",
      " [-8.75317097e-01  0.00000000e+00 -4.83549327e-01]]\n",
      "1 planes in electrode GND\n",
      "normals vectors:\n",
      " [[0. 1. 0.]]\n",
      "1 planes in electrode DC12\n",
      "normals vectors:\n",
      " [[0. 1. 0.]]\n",
      "1 planes in electrode DC17\n",
      "normals vectors:\n",
      " [[0. 1. 0.]]\n",
      "1 planes in electrode DC11\n",
      "normals vectors:\n",
      " [[-0.  1.  0.]]\n",
      "1 planes in electrode DC5\n",
      "normals vectors:\n",
      " [[0. 1. 0.]]\n",
      "1 planes in electrode DC15\n",
      "normals vectors:\n",
      " [[0. 1. 0.]]\n",
      "1 planes in electrode DC9\n",
      "normals vectors:\n",
      " [[0. 1. 0.]]\n",
      "1 planes in electrode RF\n",
      "normals vectors:\n",
      " [[0. 1. 0.]]\n",
      "1 planes in electrode DC20\n",
      "normals vectors:\n",
      " [[0. 1. 0.]]\n",
      "1 planes in electrode DC6\n",
      "normals vectors:\n",
      " [[8.18265803e-16 1.00000000e+00 3.02819175e-30]]\n",
      "1 planes in electrode DC2\n",
      "normals vectors:\n",
      " [[0. 1. 0.]]\n",
      "1 planes in electrode DC8\n",
      "normals vectors:\n",
      " [[0. 1. 0.]]\n",
      "1 planes in electrode DC10\n",
      "normals vectors:\n",
      " [[ 0.  1. -0.]]\n",
      "1 planes in electrode DC19\n",
      "normals vectors:\n",
      " [[0. 1. 0.]]\n",
      "1 planes in electrode DC3\n",
      "normals vectors:\n",
      " [[0. 1. 0.]]\n",
      "1 planes in electrode DC16\n",
      "normals vectors:\n",
      " [[0. 1. 0.]]\n"
     ]
    }
   ],
   "source": [
    "# # assign a name for each color\n",
    "ele_col.color_electrode(color = 'bem1',name = 'cutout1')\n",
    "ele_col.color_electrode(color = 'bem2',name = 'cutout2')\n",
    "ele_col.color_electrode(color = 'bem3',name = 'GND')\n",
    "ele_col.color_electrode(color = 'bem4',name = 'DC1')\n",
    "ele_col.color_electrode(color = 'bem5',name = 'DC2')\n",
    "ele_col.color_electrode(color = 'bem6',name = 'DC3')\n",
    "ele_col.color_electrode(color = 'bem7',name = 'DC4')\n",
    "ele_col.color_electrode(color = 'bem8',name = 'DC5')\n",
    "ele_col.color_electrode(color = 'bem9',name = 'DC6')\n",
    "ele_col.color_electrode(color = 'bem10',name = 'DC7')\n",
    "ele_col.color_electrode(color = 'bem11',name = 'DC8')\n",
    "ele_col.color_electrode(color = 'bem12',name = 'DC9')\n",
    "ele_col.color_electrode(color = 'bem13',name = 'DC10')\n",
    "ele_col.color_electrode(color = 'bem14',name = 'RF')\n",
    "ele_col.color_electrode(color = 'bem15',name = 'DC11')\n",
    "ele_col.color_electrode(color = 'bem16',name = 'DC12')\n",
    "ele_col.color_electrode(color = 'bem17',name = 'DC13')\n",
    "ele_col.color_electrode(color = 'bem18',name = 'DC14')\n",
    "ele_col.color_electrode(color = 'bem19',name = 'DC15')\n",
    "ele_col.color_electrode(color = 'bem20',name = 'DC16')\n",
    "ele_col.color_electrode(color = 'bem21',name = 'DC17')\n",
    "ele_col.color_electrode(color = 'bem22',name = 'DC18')\n",
    "ele_col.color_electrode(color = 'bem23',name = 'DC19')\n",
    "ele_col.color_electrode(color = 'bem24',name = 'DC20')\n",
    "\n",
    "# # print colors still with no name. These meshes will be neglected in the following codes\n",
    "ele_col.drop_colors()\n",
    "\n",
    "# # read stl into mesh with electrode names\n",
    "# # unnamed meshes will not be imported at all\n",
    "mesh = Mesh.from_mesh(stl.stl_to_mesh(*s_nta, scale=scale/1e-6,\n",
    "    rename=ele_col.electrode_colors, quiet=False))"
   ]
  },
  {
   "cell_type": "code",
   "execution_count": 6,
   "id": "5c38e208-52e4-4d72-a570-180e06ffcade",
   "metadata": {},
   "outputs": [],
   "source": [
    "mesh.plot()"
   ]
  },
  {
   "cell_type": "code",
   "execution_count": 7,
   "id": "73d947bd-0434-4b12-81bc-2c545e978883",
   "metadata": {},
   "outputs": [
    {
     "name": "stdout",
     "output_type": "stream",
     "text": [
      "1004\n"
     ]
    }
   ],
   "source": [
    "print(len(mesh.points))"
   ]
  },
  {
   "cell_type": "code",
   "execution_count": 8,
   "id": "bdd6a34b-7f1e-405d-b7f6-04698358e7e0",
   "metadata": {},
   "outputs": [
    {
     "name": "stdout",
     "output_type": "stream",
     "text": [
      "start triangulate DC14\n",
      "final opts q20Qzr\n",
      "finish triangulate DC14\n",
      "start triangulate DC1\n",
      "final opts q20Qzr\n",
      "finish triangulate DC1\n",
      "start triangulate DC13\n",
      "final opts q20Qzr\n",
      "finish triangulate DC13\n",
      "start triangulate DC18\n",
      "final opts q20Qzr\n",
      "finish triangulate DC18\n",
      "start triangulate DC4\n",
      "final opts q20Qzr\n",
      "finish triangulate DC4\n",
      "start triangulate DC7\n",
      "final opts q20Qzr\n",
      "finish triangulate DC7\n",
      "start triangulate cutout2\n",
      "final opts q20Qzr\n",
      "final opts q20Qzr\n",
      "final opts q20Qzr\n",
      "final opts q20Qzr\n",
      "final opts q20Qzr\n",
      "final opts q20Qzr\n",
      "final opts q20Qzr\n",
      "final opts q20Qzr\n",
      "final opts q20Qzr\n",
      "final opts q20Qzr\n",
      "final opts q20Qzr\n",
      "final opts q20Qzr\n",
      "final opts q20Qzr\n",
      "final opts q20Qzr\n",
      "final opts q20Qzr\n",
      "final opts q20Qzr\n",
      "final opts q20Qzr\n",
      "final opts q20Qzr\n",
      "final opts q20Qzr\n",
      "final opts q20Qzr\n",
      "final opts q20Qzr\n",
      "final opts q20Qzr\n",
      "final opts q20Qzr\n",
      "final opts q20Qzr\n",
      "final opts q20Qzr\n",
      "final opts q20Qzr\n",
      "final opts q20Qzr\n",
      "final opts q20Qzr\n",
      "final opts q20Qzr\n",
      "final opts q20Qzr\n",
      "final opts q20Qzr\n",
      "final opts q20Qzr\n",
      "final opts q20Qzr\n",
      "final opts q20Qzr\n",
      "final opts q20Qzr\n",
      "final opts q20Qzr\n",
      "final opts q20Qzr\n",
      "final opts q20Qzr\n",
      "final opts q20Qzr\n",
      "final opts q20Qzr\n",
      "final opts q20Qzr\n",
      "finish triangulate cutout2\n",
      "start triangulate cutout1\n",
      "final opts q20Qzr\n",
      "final opts q20Qzr\n",
      "final opts q20Qzr\n",
      "final opts q20Qzr\n",
      "final opts q20Qzr\n",
      "final opts q20Qzr\n",
      "final opts q20Qzr\n",
      "final opts q20Qzr\n",
      "final opts q20Qzr\n",
      "final opts q20Qzr\n",
      "final opts q20Qzr\n",
      "final opts q20Qzr\n",
      "final opts q20Qzr\n",
      "final opts q20Qzr\n",
      "final opts q20Qzr\n",
      "final opts q20Qzr\n",
      "final opts q20Qzr\n",
      "final opts q20Qzr\n",
      "final opts q20Qzr\n",
      "final opts q20Qzr\n",
      "final opts q20Qzr\n",
      "final opts q20Qzr\n",
      "final opts q20Qzr\n",
      "final opts q20Qzr\n",
      "final opts q20Qzr\n",
      "final opts q20Qzr\n",
      "final opts q20Qzr\n",
      "final opts q20Qzr\n",
      "final opts q20Qzr\n",
      "final opts q20Qzr\n",
      "final opts q20Qzr\n",
      "final opts q20Qzr\n",
      "final opts q20Qzr\n",
      "final opts q20Qzr\n",
      "final opts q20Qzr\n",
      "final opts q20Qzr\n",
      "final opts q20Qzr\n",
      "final opts q20Qzr\n",
      "final opts q20Qzr\n",
      "final opts q20Qzr\n",
      "final opts q20Qzr\n",
      "finish triangulate cutout1\n",
      "start triangulate GND\n",
      "final opts q20Qzr\n",
      "finish triangulate GND\n",
      "start triangulate DC12\n",
      "final opts q20Qzr\n",
      "finish triangulate DC12\n",
      "start triangulate DC17\n",
      "final opts q20Qzr\n",
      "finish triangulate DC17\n",
      "start triangulate DC11\n",
      "final opts q20Qzr\n",
      "finish triangulate DC11\n",
      "start triangulate DC5\n",
      "final opts q20Qzr\n",
      "finish triangulate DC5\n",
      "start triangulate DC15\n",
      "final opts q20Qzr\n",
      "finish triangulate DC15\n",
      "start triangulate DC9\n",
      "final opts q20Qzr\n",
      "finish triangulate DC9\n",
      "start triangulate RF\n",
      "final opts q20Qzr\n",
      "finish triangulate RF\n",
      "start triangulate DC20\n",
      "final opts q20Qzr\n",
      "finish triangulate DC20\n",
      "start triangulate DC6\n",
      "final opts q20Qzr\n",
      "finish triangulate DC6\n",
      "start triangulate DC2\n",
      "final opts q20Qzr\n",
      "finish triangulate DC2\n",
      "start triangulate DC8\n",
      "final opts q20Qzr\n",
      "finish triangulate DC8\n",
      "start triangulate DC10\n",
      "final opts q20Qzr\n",
      "finish triangulate DC10\n",
      "start triangulate DC19\n",
      "final opts q20Qzr\n",
      "finish triangulate DC19\n",
      "start triangulate DC3\n",
      "final opts q20Qzr\n",
      "finish triangulate DC3\n",
      "start triangulate DC16\n",
      "final opts q20Qzr\n",
      "finish triangulate DC16\n"
     ]
    }
   ],
   "source": [
    "mesh.triangulate(opts=\"q20Q\",new = False);"
   ]
  },
  {
   "cell_type": "code",
   "execution_count": 9,
   "id": "b79c1f3e-d489-44ec-903d-1962de97dacf",
   "metadata": {},
   "outputs": [],
   "source": [
    "mesh.plot()"
   ]
  },
  {
   "cell_type": "code",
   "execution_count": 10,
   "id": "07a6965b-3aa5-4f71-a715-b63359e2d3e3",
   "metadata": {},
   "outputs": [
    {
     "name": "stdout",
     "output_type": "stream",
     "text": [
      "4527\n"
     ]
    }
   ],
   "source": [
    "print(len(mesh.points))"
   ]
  },
  {
   "cell_type": "code",
   "execution_count": 11,
   "id": "1db81087-fe9d-4325-8ac5-750b8dd40a35",
   "metadata": {
    "scrolled": true
   },
   "outputs": [
    {
     "name": "stdout",
     "output_type": "stream",
     "text": [
      "start triangulate DC14\n",
      "final opts q20Qzra\n",
      "finish triangulate DC14\n",
      "start triangulate DC1\n",
      "final opts q20Qzra\n",
      "finish triangulate DC1\n",
      "start triangulate DC13\n",
      "final opts q20Qzra\n",
      "finish triangulate DC13\n",
      "start triangulate DC18\n",
      "final opts q20Qzra\n",
      "finish triangulate DC18\n",
      "start triangulate DC4\n",
      "final opts q20Qzra\n",
      "finish triangulate DC4\n",
      "start triangulate DC7\n",
      "final opts q20Qzra\n",
      "finish triangulate DC7\n",
      "start triangulate cutout2\n",
      "final opts q20Qzra\n",
      "final opts q20Qzra\n",
      "final opts q20Qzra\n",
      "final opts q20Qzra\n",
      "final opts q20Qzra\n",
      "final opts q20Qzra\n",
      "final opts q20Qzra\n",
      "final opts q20Qzra\n",
      "final opts q20Qzra\n",
      "final opts q20Qzra\n",
      "final opts q20Qzra\n",
      "final opts q20Qzra\n",
      "final opts q20Qzra\n",
      "final opts q20Qzra\n",
      "final opts q20Qzra\n",
      "final opts q20Qzra\n",
      "final opts q20Qzra\n",
      "final opts q20Qzra\n",
      "final opts q20Qzra\n",
      "final opts q20Qzra\n",
      "final opts q20Qzra\n",
      "final opts q20Qzra\n",
      "final opts q20Qzra\n",
      "final opts q20Qzra\n",
      "final opts q20Qzra\n",
      "final opts q20Qzra\n",
      "final opts q20Qzra\n",
      "final opts q20Qzra\n",
      "final opts q20Qzra\n",
      "final opts q20Qzra\n",
      "final opts q20Qzra\n",
      "final opts q20Qzra\n",
      "final opts q20Qzra\n",
      "final opts q20Qzra\n",
      "final opts q20Qzra\n",
      "final opts q20Qzra\n",
      "final opts q20Qzra\n",
      "final opts q20Qzra\n",
      "final opts q20Qzra\n",
      "final opts q20Qzra\n",
      "final opts q20Qzra\n",
      "finish triangulate cutout2\n",
      "start triangulate cutout1\n",
      "final opts q20Qzra\n",
      "final opts q20Qzra\n",
      "final opts q20Qzra\n",
      "final opts q20Qzra\n",
      "final opts q20Qzra\n",
      "final opts q20Qzra\n",
      "final opts q20Qzra\n",
      "final opts q20Qzra\n",
      "final opts q20Qzra\n",
      "final opts q20Qzra\n",
      "final opts q20Qzra\n",
      "final opts q20Qzra\n",
      "final opts q20Qzra\n",
      "final opts q20Qzra\n",
      "final opts q20Qzra\n",
      "final opts q20Qzra\n",
      "final opts q20Qzra\n",
      "final opts q20Qzra\n",
      "final opts q20Qzra\n",
      "final opts q20Qzra\n",
      "final opts q20Qzra\n",
      "final opts q20Qzra\n",
      "final opts q20Qzra\n",
      "final opts q20Qzra\n",
      "final opts q20Qzra\n",
      "final opts q20Qzra\n",
      "final opts q20Qzra\n",
      "final opts q20Qzra\n",
      "final opts q20Qzra\n",
      "final opts q20Qzra\n",
      "final opts q20Qzra\n",
      "final opts q20Qzra\n",
      "final opts q20Qzra\n",
      "final opts q20Qzra\n",
      "final opts q20Qzra\n",
      "final opts q20Qzra\n",
      "final opts q20Qzra\n",
      "final opts q20Qzra\n",
      "final opts q20Qzra\n",
      "final opts q20Qzra\n",
      "final opts q20Qzra\n",
      "finish triangulate cutout1\n",
      "start triangulate GND\n",
      "final opts q20Qzra\n",
      "finish triangulate GND\n",
      "start triangulate DC12\n",
      "final opts q20Qzra\n",
      "finish triangulate DC12\n",
      "start triangulate DC17\n",
      "final opts q20Qzra\n",
      "finish triangulate DC17\n",
      "start triangulate DC11\n",
      "final opts q20Qzra\n",
      "finish triangulate DC11\n",
      "start triangulate DC5\n",
      "final opts q20Qzra\n",
      "finish triangulate DC5\n",
      "start triangulate DC15\n",
      "final opts q20Qzra\n",
      "finish triangulate DC15\n",
      "start triangulate DC9\n",
      "final opts q20Qzra\n",
      "finish triangulate DC9\n",
      "start triangulate RF\n",
      "final opts q20Qzra\n",
      "finish triangulate RF\n",
      "start triangulate DC20\n",
      "final opts q20Qzra\n",
      "finish triangulate DC20\n",
      "start triangulate DC6\n",
      "final opts q20Qzra\n",
      "finish triangulate DC6\n",
      "start triangulate DC2\n",
      "final opts q20Qzra\n",
      "finish triangulate DC2\n",
      "start triangulate DC8\n",
      "final opts q20Qzra\n",
      "finish triangulate DC8\n",
      "start triangulate DC10\n",
      "final opts q20Qzra\n",
      "finish triangulate DC10\n",
      "start triangulate DC19\n",
      "final opts q20Qzra\n",
      "finish triangulate DC19\n",
      "start triangulate DC3\n",
      "final opts q20Qzra\n",
      "finish triangulate DC3\n",
      "start triangulate DC16\n",
      "final opts q20Qzra\n",
      "finish triangulate DC16\n",
      "Output vtk: c:\\Users\\Photonics\\Documents\\GitHub\\integrated_photonics_bem\\Weiwei_simulation\\Calcium_trap_planar_cood_fixed v5.vtk\n"
     ]
    }
   ],
   "source": [
    "mesh.areas_from_constraints(Sphere(center=np.array([0.0, 0.0, -9.0]),\n",
    "           radius=5, inside=0.01, outside=1.))    # \"inside\", \"outside\" set different mesh densities.\n",
    "# mesh.areas_from_constraints(Sphere(center=np.array([0., 0., 1]),\n",
    "#            radius=3.5, inside=0.1, outside=5))    # \"inside\", \"outside\" set different mesh densities.\n",
    "# retriangulate quality and quiet with areas\n",
    "mesh.triangulate(opts=\"q20Q\", new=False)\n",
    "# save base mesh to vtk\n",
    "mesh.to_vtk(prefix)\n",
    "print(\"Output vtk:\",os.path.abspath(\"./\"+prefix+\".vtk\"))    # output path\n"
   ]
  },
  {
   "cell_type": "code",
   "execution_count": 12,
   "id": "0dd08162-8f4c-49fe-a12e-5718ae01b283",
   "metadata": {},
   "outputs": [],
   "source": [
    "mesh.plot()"
   ]
  },
  {
   "cell_type": "code",
   "execution_count": 13,
   "id": "0ddf1028-4f12-434c-b455-0560c54fbd3f",
   "metadata": {},
   "outputs": [
    {
     "name": "stdout",
     "output_type": "stream",
     "text": [
      "9768\n"
     ]
    }
   ],
   "source": [
    "print(len(mesh.points))"
   ]
  },
  {
   "cell_type": "code",
   "execution_count": 14,
   "id": "3259a6e8-2ad4-44d7-a6f0-924f84c1b5aa",
   "metadata": {},
   "outputs": [],
   "source": [
    "def run_job(args):\n",
    "    # job is Configuration instance.\n",
    "    job, grid, prefix = args\n",
    "    # refine twice adaptively with increasing number of triangles, min angle 15 deg.\n",
    "#     job.adapt_mesh(triangles=4e2, opts=\"q0.1Q\")\n",
    "#     job.adapt_mesh(triangles=1e3, opts=\"q0.1Q\")\n",
    "    # solve for surface charges\n",
    "    job.solve_singularities(num_mom=4, num_lev=3, max_iter=400)\n",
    "    # get potentials and fields\n",
    "    # RF_field = (job.name==\"RF1\") or (job.name==\"RF2\") or (job.name==\"RF0\")\n",
    "    RF_field = \"RF\" in job.name\n",
    "    result = job.simulate(grid, field=RF_field, num_lev=2)    # For \"RF\", field=True computes the field.\n",
    "    result.to_vtk(prefix)\n",
    "    print(\"finished job %s\" % job.name)\n",
    "    return job.collect_charges()"
   ]
  },
  {
   "cell_type": "code",
   "execution_count": 15,
   "id": "3cabf02c-f200-40d5-8eb4-2006a9db2dbe",
   "metadata": {},
   "outputs": [
    {
     "name": "stdout",
     "output_type": "stream",
     "text": [
      "Size/l: 0.6 0.3 0.2\n",
      "Step/l: 0.005 0.005 0.005\n",
      "Shape (grid point numbers): 121 61 41\n",
      "Grid origin/l: -0.3\n"
     ]
    }
   ],
   "source": [
    "# grid to evalute potential and fields atCreate a grid in unit of scaled length l. Only choose the interested region (trap center) to save time.\n",
    "s = 0.005 # step 0.01*100 (scale) = 1 um\n",
    "Lx, Ly, Lz = 0.6, 0.3, 0.2   # in the unit of scaled length l, z=0 is the bottom of substrate, z = 30um is the top of metal\n",
    "sx, sy, sz = s, s, s\n",
    "# ni is grid point number, si is step size. Thus to fix size on i direction you need to fix ni*si.\n",
    "# nx, ny, nz = [2*np.ceil(L/2.0/s).astype('int')+1 for L in (Lx, Ly, Lz)]\n",
    "nx = 2*np.ceil(Lx/2.0/sx).astype('int')+1 \n",
    "ny = 2*np.ceil(Ly/2.0/sy).astype('int')+1 \n",
    "nz = 2*np.ceil(Lz/2.0/sz).astype('int')+1 \n",
    "print(\"Size/l:\", Lx, Ly, Lz)\n",
    "print(\"Step/l:\", sx, sy, sz)\n",
    "print(\"Shape (grid point numbers):\", nx, ny, nz)\n",
    "grid = Grid(center=(0., 0.0, -9.0), step=(sx, sy, sz), shape=(nx, ny, nz))\n",
    "# Grid center (nx, ny ,nz)/2 is shifted to origin\n",
    "print(\"Grid origin/l:\", grid.get_origin()[0])\n",
    "x, y, z = grid.to_xyz()"
   ]
  },
  {
   "cell_type": "code",
   "execution_count": 16,
   "id": "d34889d9-ac12-4d25-ac8e-17b0f4a8e0b7",
   "metadata": {},
   "outputs": [],
   "source": [
    "pv.global_theme.notebook = False\n",
    "def plot_grid_mesh_stl(grid, mesh):\n",
    "    plotter = pv.Plotter()\n",
    "    \n",
    "    # Convert the mesh to PolyData and add it to the plotter\n",
    "    pd = mesh.to_polydata()\n",
    "    plotter.add_mesh(pd, scalars='electrode_name', show_edges=True)\n",
    "    \n",
    "    # Add the grid points\n",
    "    x, y, z = np.meshgrid(grid.to_xyz()[0], grid.to_xyz()[1], grid.to_xyz()[2])\n",
    "    grid_points = np.vstack([x.ravel(), y.ravel(), z.ravel()]).T\n",
    "    plotter.add_points(grid_points, color='red', point_size=5)\n",
    "    \n",
    "    plotter.show_bounds()\n",
    "    plotter.add_camera_orientation_widget()\n",
    "    plotter.show()\n",
    "\n",
    "# Call the function to plot everything together\n",
    "plot_grid_mesh_stl(grid, mesh)"
   ]
  },
  {
   "cell_type": "code",
   "execution_count": 17,
   "id": "ecbf6e5a-d942-478c-b3f1-adbe3acae15d",
   "metadata": {},
   "outputs": [
    {
     "name": "stdout",
     "output_type": "stream",
     "text": [
      "Starting 32 engines with <class 'ipyparallel.cluster.launcher.LocalEngineSetLauncher'>\n"
     ]
    },
    {
     "data": {
      "application/vnd.jupyter.widget-view+json": {
       "model_id": "2f278b81155044eebca52c71588039f1",
       "version_major": 2,
       "version_minor": 0
      },
      "text/plain": [
       "  0%|          | 0/32 [00:00<?, ?engine/s]"
      ]
     },
     "metadata": {},
     "output_type": "display_data"
    },
    {
     "data": {
      "application/vnd.jupyter.widget-view+json": {
       "model_id": "8e053ee497df4c2699815f66163c5c0d",
       "version_major": 2,
       "version_minor": 0
      },
      "text/plain": [
       "run_job:   0%|          | 0/1 [00:00<?, ?tasks/s]"
      ]
     },
     "metadata": {},
     "output_type": "display_data"
    },
    {
     "name": "stdout",
     "output_type": "stream",
     "text": [
      "Computing time: 553.246155 s\n"
     ]
    }
   ],
   "source": [
    "jobs = list(Configuration.select(mesh, \"RF\"))    # select() picks one electrode each time.\n",
    "# jobs = list(Configuration.select(mesh, \"RF\"))    # select() picks one electrode each time.\n",
    "# jobs = list(Configuration.select(mesh, \"DC.*\")) \n",
    "\n",
    "\n",
    "\n",
    "# parallel computation\n",
    "mycluster = ipp.Cluster()\n",
    "mycluster.start_cluster_sync()\n",
    "c = mycluster.connect_client_sync()\n",
    "c.wait_for_engines()\n",
    "\n",
    "t0 = time()\n",
    "# Run a parallel map, executing the wrapper function on indices 0,...,n-1\n",
    "lview = c.load_balanced_view()\n",
    "# Cause execution on main process to wait while tasks sent to workers finish\n",
    "lview.block = True \n",
    "asyncresult = lview.map_async(run_job, ((job, grid, prefix) for job in jobs))   # Run calculation in parallel\n",
    "asyncresult.wait_interactive()\n",
    "print(\"Computing time: %f s\"%(time()-t0))"
   ]
  },
  {
   "cell_type": "code",
   "execution_count": 18,
   "id": "8c8666cb-9f82-41be-ac89-3c66da1458ea",
   "metadata": {
    "scrolled": true
   },
   "outputs": [
    {
     "name": "stdout",
     "output_type": "stream",
     "text": [
      "9768\n"
     ]
    }
   ],
   "source": [
    "print(len(mesh.points))"
   ]
  },
  {
   "cell_type": "code",
   "execution_count": 19,
   "id": "11c7a08f-bd00-4a52-a1f3-28d3a80e4b57",
   "metadata": {
    "scrolled": true
   },
   "outputs": [
    {
     "name": "stdout",
     "output_type": "stream",
     "text": [
      "Starting 32 engines with <class 'ipyparallel.cluster.launcher.LocalEngineSetLauncher'>\n"
     ]
    },
    {
     "data": {
      "application/vnd.jupyter.widget-view+json": {
       "model_id": "614a22cbc09742aeb52edeb53f95873e",
       "version_major": 2,
       "version_minor": 0
      },
      "text/plain": [
       "  0%|          | 0/32 [00:00<?, ?engine/s]"
      ]
     },
     "metadata": {},
     "output_type": "display_data"
    },
    {
     "name": "stdout",
     "output_type": "stream",
     "text": [
      "Memory Usage: 37.2% - Available: 43.01 GB\n"
     ]
    },
    {
     "data": {
      "application/vnd.jupyter.widget-view+json": {
       "model_id": "8a6f4cc427e4497f94d61e8437e8a49a",
       "version_major": 2,
       "version_minor": 0
      },
      "text/plain": [
       "run_job:   0%|          | 0/20 [00:00<?, ?tasks/s]"
      ]
     },
     "metadata": {},
     "output_type": "display_data"
    },
    {
     "name": "stdout",
     "output_type": "stream",
     "text": [
      "Memory Usage: 13.8% - Available: 59.00 GB\n",
      "Computing time: 828.921382 s\n"
     ]
    }
   ],
   "source": [
    "import ipyparallel as ipp\n",
    "from time import time\n",
    "import psutil\n",
    "\n",
    "# Select jobs\n",
    "jobs = list(Configuration.select(mesh, \"DC\"))\n",
    "\n",
    "# Parallel computation setup\n",
    "mycluster = ipp.Cluster()\n",
    "mycluster.start_cluster_sync()\n",
    "c = mycluster.connect_client_sync()\n",
    "c.wait_for_engines()\n",
    "\n",
    "# Limit engines to 30\n",
    "selected_engines = c.ids[:30] if len(c.ids) > 30 else c.ids\n",
    "\n",
    "# Track memory usage function\n",
    "def check_memory():\n",
    "    mem = psutil.virtual_memory()\n",
    "    print(f\"Memory Usage: {mem.percent}% - Available: {mem.available / 1e9:.2f} GB\")\n",
    "\n",
    "# Create a direct view on selected engines\n",
    "lview = c.direct_view(targets=selected_engines)\n",
    "lview.block = True\n",
    "\n",
    "# Run calculation in parallel\n",
    "t0 = time()\n",
    "check_memory()\n",
    "\n",
    "# Run in smaller batches to avoid memory overload\n",
    "batch_size = min(100, len(jobs))  # Adjust batch size as needed\n",
    "for i in range(0, len(jobs), batch_size):\n",
    "    asyncresult = lview.map_async(run_job, ((job, grid, prefix) for job in jobs[i:i + batch_size]))\n",
    "    asyncresult.wait_interactive()\n",
    "    check_memory()\n",
    "\n",
    "print(\"Computing time: %f s\" % (time() - t0))\n"
   ]
  },
  {
   "cell_type": "code",
   "execution_count": 20,
   "id": "1ed71995-fb27-451d-845c-faabf61d1313",
   "metadata": {},
   "outputs": [
    {
     "name": "stderr",
     "output_type": "stream",
     "text": [
      "c:\\Users\\Photonics\\.conda\\envs\\bem39\\lib\\site-packages\\pyvista\\core\\grid.py:514: PyVistaDeprecationWarning: `dims` argument is deprecated. Please use `dimensions`.\n",
      "  warnings.warn(\n"
     ]
    },
    {
     "name": "stdout",
     "output_type": "stream",
     "text": [
      "finished job DC14\n"
     ]
    },
    {
     "name": "stderr",
     "output_type": "stream",
     "text": [
      "c:\\Users\\Photonics\\.conda\\envs\\bem39\\lib\\site-packages\\pyvista\\core\\grid.py:514: PyVistaDeprecationWarning: `dims` argument is deprecated. Please use `dimensions`.\n",
      "  warnings.warn(\n"
     ]
    },
    {
     "name": "stdout",
     "output_type": "stream",
     "text": [
      "finished job DC1\n"
     ]
    },
    {
     "name": "stderr",
     "output_type": "stream",
     "text": [
      "c:\\Users\\Photonics\\.conda\\envs\\bem39\\lib\\site-packages\\pyvista\\core\\grid.py:514: PyVistaDeprecationWarning: `dims` argument is deprecated. Please use `dimensions`.\n",
      "  warnings.warn(\n"
     ]
    },
    {
     "name": "stdout",
     "output_type": "stream",
     "text": [
      "finished job DC13\n"
     ]
    },
    {
     "name": "stderr",
     "output_type": "stream",
     "text": [
      "c:\\Users\\Photonics\\.conda\\envs\\bem39\\lib\\site-packages\\pyvista\\core\\grid.py:514: PyVistaDeprecationWarning: `dims` argument is deprecated. Please use `dimensions`.\n",
      "  warnings.warn(\n"
     ]
    },
    {
     "name": "stdout",
     "output_type": "stream",
     "text": [
      "finished job DC18\n"
     ]
    },
    {
     "name": "stderr",
     "output_type": "stream",
     "text": [
      "c:\\Users\\Photonics\\.conda\\envs\\bem39\\lib\\site-packages\\pyvista\\core\\grid.py:514: PyVistaDeprecationWarning: `dims` argument is deprecated. Please use `dimensions`.\n",
      "  warnings.warn(\n"
     ]
    },
    {
     "name": "stdout",
     "output_type": "stream",
     "text": [
      "finished job DC4\n"
     ]
    },
    {
     "name": "stderr",
     "output_type": "stream",
     "text": [
      "c:\\Users\\Photonics\\.conda\\envs\\bem39\\lib\\site-packages\\pyvista\\core\\grid.py:514: PyVistaDeprecationWarning: `dims` argument is deprecated. Please use `dimensions`.\n",
      "  warnings.warn(\n"
     ]
    },
    {
     "name": "stdout",
     "output_type": "stream",
     "text": [
      "finished job DC7\n"
     ]
    },
    {
     "name": "stderr",
     "output_type": "stream",
     "text": [
      "c:\\Users\\Photonics\\.conda\\envs\\bem39\\lib\\site-packages\\pyvista\\core\\grid.py:514: PyVistaDeprecationWarning: `dims` argument is deprecated. Please use `dimensions`.\n",
      "  warnings.warn(\n"
     ]
    },
    {
     "name": "stdout",
     "output_type": "stream",
     "text": [
      "finished job DC12\n"
     ]
    },
    {
     "name": "stderr",
     "output_type": "stream",
     "text": [
      "c:\\Users\\Photonics\\.conda\\envs\\bem39\\lib\\site-packages\\pyvista\\core\\grid.py:514: PyVistaDeprecationWarning: `dims` argument is deprecated. Please use `dimensions`.\n",
      "  warnings.warn(\n"
     ]
    },
    {
     "name": "stdout",
     "output_type": "stream",
     "text": [
      "finished job DC17\n"
     ]
    },
    {
     "name": "stderr",
     "output_type": "stream",
     "text": [
      "c:\\Users\\Photonics\\.conda\\envs\\bem39\\lib\\site-packages\\pyvista\\core\\grid.py:514: PyVistaDeprecationWarning: `dims` argument is deprecated. Please use `dimensions`.\n",
      "  warnings.warn(\n"
     ]
    },
    {
     "name": "stdout",
     "output_type": "stream",
     "text": [
      "finished job DC11\n"
     ]
    },
    {
     "name": "stderr",
     "output_type": "stream",
     "text": [
      "c:\\Users\\Photonics\\.conda\\envs\\bem39\\lib\\site-packages\\pyvista\\core\\grid.py:514: PyVistaDeprecationWarning: `dims` argument is deprecated. Please use `dimensions`.\n",
      "  warnings.warn(\n"
     ]
    },
    {
     "name": "stdout",
     "output_type": "stream",
     "text": [
      "finished job DC5\n"
     ]
    },
    {
     "name": "stderr",
     "output_type": "stream",
     "text": [
      "c:\\Users\\Photonics\\.conda\\envs\\bem39\\lib\\site-packages\\pyvista\\core\\grid.py:514: PyVistaDeprecationWarning: `dims` argument is deprecated. Please use `dimensions`.\n",
      "  warnings.warn(\n"
     ]
    },
    {
     "name": "stdout",
     "output_type": "stream",
     "text": [
      "finished job DC15\n"
     ]
    },
    {
     "name": "stderr",
     "output_type": "stream",
     "text": [
      "c:\\Users\\Photonics\\.conda\\envs\\bem39\\lib\\site-packages\\pyvista\\core\\grid.py:514: PyVistaDeprecationWarning: `dims` argument is deprecated. Please use `dimensions`.\n",
      "  warnings.warn(\n"
     ]
    },
    {
     "name": "stdout",
     "output_type": "stream",
     "text": [
      "finished job DC9\n"
     ]
    },
    {
     "name": "stderr",
     "output_type": "stream",
     "text": [
      "c:\\Users\\Photonics\\.conda\\envs\\bem39\\lib\\site-packages\\pyvista\\core\\grid.py:514: PyVistaDeprecationWarning: `dims` argument is deprecated. Please use `dimensions`.\n",
      "  warnings.warn(\n"
     ]
    },
    {
     "name": "stdout",
     "output_type": "stream",
     "text": [
      "finished job DC20\n"
     ]
    },
    {
     "name": "stderr",
     "output_type": "stream",
     "text": [
      "c:\\Users\\Photonics\\.conda\\envs\\bem39\\lib\\site-packages\\pyvista\\core\\grid.py:514: PyVistaDeprecationWarning: `dims` argument is deprecated. Please use `dimensions`.\n",
      "  warnings.warn(\n"
     ]
    },
    {
     "name": "stdout",
     "output_type": "stream",
     "text": [
      "finished job DC6\n"
     ]
    },
    {
     "name": "stderr",
     "output_type": "stream",
     "text": [
      "c:\\Users\\Photonics\\.conda\\envs\\bem39\\lib\\site-packages\\pyvista\\core\\grid.py:514: PyVistaDeprecationWarning: `dims` argument is deprecated. Please use `dimensions`.\n",
      "  warnings.warn(\n"
     ]
    },
    {
     "name": "stdout",
     "output_type": "stream",
     "text": [
      "finished job DC2\n"
     ]
    },
    {
     "name": "stderr",
     "output_type": "stream",
     "text": [
      "c:\\Users\\Photonics\\.conda\\envs\\bem39\\lib\\site-packages\\pyvista\\core\\grid.py:514: PyVistaDeprecationWarning: `dims` argument is deprecated. Please use `dimensions`.\n",
      "  warnings.warn(\n"
     ]
    },
    {
     "name": "stdout",
     "output_type": "stream",
     "text": [
      "finished job DC8\n"
     ]
    },
    {
     "name": "stderr",
     "output_type": "stream",
     "text": [
      "c:\\Users\\Photonics\\.conda\\envs\\bem39\\lib\\site-packages\\pyvista\\core\\grid.py:514: PyVistaDeprecationWarning: `dims` argument is deprecated. Please use `dimensions`.\n",
      "  warnings.warn(\n"
     ]
    },
    {
     "name": "stdout",
     "output_type": "stream",
     "text": [
      "finished job DC10\n"
     ]
    },
    {
     "name": "stderr",
     "output_type": "stream",
     "text": [
      "c:\\Users\\Photonics\\.conda\\envs\\bem39\\lib\\site-packages\\pyvista\\core\\grid.py:514: PyVistaDeprecationWarning: `dims` argument is deprecated. Please use `dimensions`.\n",
      "  warnings.warn(\n"
     ]
    },
    {
     "name": "stdout",
     "output_type": "stream",
     "text": [
      "finished job DC19\n"
     ]
    },
    {
     "name": "stderr",
     "output_type": "stream",
     "text": [
      "c:\\Users\\Photonics\\.conda\\envs\\bem39\\lib\\site-packages\\pyvista\\core\\grid.py:514: PyVistaDeprecationWarning: `dims` argument is deprecated. Please use `dimensions`.\n",
      "  warnings.warn(\n"
     ]
    },
    {
     "name": "stdout",
     "output_type": "stream",
     "text": [
      "finished job DC3\n",
      "finished job DC16\n"
     ]
    },
    {
     "name": "stderr",
     "output_type": "stream",
     "text": [
      "c:\\Users\\Photonics\\.conda\\envs\\bem39\\lib\\site-packages\\pyvista\\core\\grid.py:514: PyVistaDeprecationWarning: `dims` argument is deprecated. Please use `dimensions`.\n",
      "  warnings.warn(\n"
     ]
    }
   ],
   "source": [
    "jobs = list(Configuration.select(mesh, \"DC\"))\n",
    "for job in jobs:\n",
    "    run_job((job, grid, prefix))"
   ]
  },
  {
   "cell_type": "code",
   "execution_count": 21,
   "id": "0a53999f-e50c-42f1-849d-1cb806a74442",
   "metadata": {
    "scrolled": true
   },
   "outputs": [
    {
     "name": "stdout",
     "output_type": "stream",
     "text": [
      "Starting 32 engines with <class 'ipyparallel.cluster.launcher.LocalEngineSetLauncher'>\n"
     ]
    },
    {
     "data": {
      "application/vnd.jupyter.widget-view+json": {
       "model_id": "fc4d7ceaac15487a8d41075b7582f152",
       "version_major": 2,
       "version_minor": 0
      },
      "text/plain": [
       "  0%|          | 0/32 [00:00<?, ?engine/s]"
      ]
     },
     "metadata": {},
     "output_type": "display_data"
    },
    {
     "data": {
      "application/vnd.jupyter.widget-view+json": {
       "model_id": "04577ac10cc44cdebc405a48588f8643",
       "version_major": 2,
       "version_minor": 0
      },
      "text/plain": [
       "run_job:   0%|          | 0/20 [00:00<?, ?tasks/s]"
      ]
     },
     "metadata": {},
     "output_type": "display_data"
    },
    {
     "name": "stdout",
     "output_type": "stream",
     "text": [
      "Computing time: 811.607075 s\n"
     ]
    }
   ],
   "source": [
    "jobs = list(Configuration.select(mesh, \"DC\"))    # select() picks one electrode each time.\n",
    "# jobs = list(Configuration.select(mesh, \"RF\"))    # select() picks one electrode each time.\n",
    "# jobs = list(Configuration.select(mesh, \"DC.*\")) \n",
    "\n",
    "\n",
    "\n",
    "# parallel computation\n",
    "mycluster = ipp.Cluster()\n",
    "mycluster.start_cluster_sync()\n",
    "c = mycluster.connect_client_sync()\n",
    "c.wait_for_engines()\n",
    "\n",
    "t0 = time()\n",
    "# Run a parallel map, executing the wrapper function on indices 0,...,n-1\n",
    "lview = c.load_balanced_view()\n",
    "# Cause execution on main process to wait while tasks sent to workers finish\n",
    "lview.block = True \n",
    "asyncresult = lview.map_async(run_job, ((job, grid, prefix) for job in jobs))   # Run calculation in parallel\n",
    "asyncresult.wait_interactive()\n",
    "print(\"Computing time: %f s\"%(time()-t0))"
   ]
  },
  {
   "cell_type": "code",
   "execution_count": 22,
   "id": "40e45053-e96e-4fce-9ec8-e31d796e0f3d",
   "metadata": {
    "scrolled": true
   },
   "outputs": [],
   "source": [
    "Result.view(prefix, 'DC1')"
   ]
  },
  {
   "cell_type": "code",
   "execution_count": 23,
   "id": "95d293c2-b3db-4665-a9cc-d3c0036869bc",
   "metadata": {
    "scrolled": true
   },
   "outputs": [],
   "source": [
    "Result.view(prefix, 'RF')"
   ]
  },
  {
   "cell_type": "code",
   "execution_count": null,
   "id": "383450da-e458-444d-820a-8e98f64ecea7",
   "metadata": {},
   "outputs": [
    {
     "name": "stdout",
     "output_type": "stream",
     "text": [
      "Starting 32 engines with <class 'ipyparallel.cluster.launcher.LocalEngineSetLauncher'>\n"
     ]
    },
    {
     "data": {
      "application/vnd.jupyter.widget-view+json": {
       "model_id": "a91990b5eb2349398a34a092bca34e98",
       "version_major": 2,
       "version_minor": 0
      },
      "text/plain": [
       "  0%|          | 0/32 [00:00<?, ?engine/s]"
      ]
     },
     "metadata": {},
     "output_type": "display_data"
    },
    {
     "data": {
      "application/vnd.jupyter.widget-view+json": {
       "model_id": "d0f7a9143aaf4a2692dc91ff983bf1a3",
       "version_major": 2,
       "version_minor": 0
      },
      "text/plain": [
       "run_job:   0%|          | 0/1 [00:00<?, ?tasks/s]"
      ]
     },
     "metadata": {},
     "output_type": "display_data"
    },
    {
     "name": "stdout",
     "output_type": "stream",
     "text": [
      "Computing time: 131.516791 s\n"
     ]
    }
   ],
   "source": [
    "jobs = list(Configuration.select(mesh, \"GND\"))    # select() picks one electrode each time.\n",
    "# jobs = list(Configuration.select(mesh, \"RF\"))    # select() picks one electrode each time.\n",
    "# jobs = list(Configuration.select(mesh, \"DC.*\")) \n",
    "\n",
    "# parallel computation\n",
    "mycluster = ipp.Cluster()\n",
    "mycluster.start_cluster_sync()\n",
    "c = mycluster.connect_client_sync()\n",
    "c.wait_for_engines()\n",
    "\n",
    "t0 = time()\n",
    "# Run a parallel map, executing the wrapper function on indices 0,...,n-1\n",
    "lview = c.load_balanced_view()\n",
    "# Cause execution on main process to wait while tasks sent to workers finish\n",
    "lview.block = True \n",
    "asyncresult = lview.map_async(run_job, ((job, grid, prefix) for job in jobs))   # Run calculation in parallel\n",
    "asyncresult.wait_interactive()\n",
    "print(\"Computing time: %f s\"%(time()-t0))"
   ]
  },
  {
   "cell_type": "code",
   "execution_count": 25,
   "id": "f58365ef-332f-4d79-952f-8386236b5ef5",
   "metadata": {},
   "outputs": [],
   "source": [
    "Result.view(prefix, 'GND')"
   ]
  },
  {
   "cell_type": "code",
   "execution_count": 31,
   "id": "fd51ba9c-64db-496c-aeb1-fbf4169ab890",
   "metadata": {},
   "outputs": [],
   "source": [
    "Result.view(prefix, 'GND')"
   ]
  },
  {
   "cell_type": "code",
   "execution_count": null,
   "id": "a4bd6e30",
   "metadata": {},
   "outputs": [],
   "source": []
  }
 ],
 "metadata": {
  "kernelspec": {
   "display_name": "bem39",
   "language": "python",
   "name": "python3"
  },
  "language_info": {
   "codemirror_mode": {
    "name": "ipython",
    "version": 3
   },
   "file_extension": ".py",
   "mimetype": "text/x-python",
   "name": "python",
   "nbconvert_exporter": "python",
   "pygments_lexer": "ipython3",
   "version": "3.9.19"
  }
 },
 "nbformat": 4,
 "nbformat_minor": 5
}
